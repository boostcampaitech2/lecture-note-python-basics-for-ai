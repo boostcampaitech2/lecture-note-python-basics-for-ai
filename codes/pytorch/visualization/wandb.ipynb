{
 "cells": [
  {
   "cell_type": "code",
   "execution_count": null,
   "id": "beb0a123",
   "metadata": {},
   "outputs": [],
   "source": [
    "!pip install wandb -q"
   ]
  },
  {
   "cell_type": "code",
   "execution_count": 1,
   "id": "26a4a9cc",
   "metadata": {},
   "outputs": [
    {
     "name": "stderr",
     "output_type": "stream",
     "text": [
      "\u001b[34m\u001b[1mwandb\u001b[0m: Currently logged in as: \u001b[33mteamlab\u001b[0m (use `wandb login --relogin` to force relogin)\n"
     ]
    },
    {
     "data": {
      "text/html": [
       "\n",
       "                Tracking run with wandb version 0.11.2<br/>\n",
       "                Syncing run <strong style=\"color:#cdcd00\">ancient-thunder-1</strong> to <a href=\"https://wandb.ai\" target=\"_blank\">Weights & Biases</a> <a href=\"https://docs.wandb.com/integrations/jupyter.html\" target=\"_blank\">(Documentation)</a>.<br/>\n",
       "                Project page: <a href=\"https://wandb.ai/teamlab/my-test-project\" target=\"_blank\">https://wandb.ai/teamlab/my-test-project</a><br/>\n",
       "                Run page: <a href=\"https://wandb.ai/teamlab/my-test-project/runs/1zps6uie\" target=\"_blank\">https://wandb.ai/teamlab/my-test-project/runs/1zps6uie</a><br/>\n",
       "                Run data is saved locally in <code>E:\\workspace\\lecture-note-python-basics-for-ai\\codes\\pytorch\\visualization\\wandb\\run-20210809_074517-1zps6uie</code><br/><br/>\n",
       "            "
      ],
      "text/plain": [
       "<IPython.core.display.HTML object>"
      ]
     },
     "metadata": {},
     "output_type": "display_data"
    },
    {
     "data": {
      "text/html": [
       "<h1>Run(1zps6uie)</h1><iframe src=\"https://wandb.ai/teamlab/my-test-project/runs/1zps6uie\" style=\"border:none;width:100%;height:400px\"></iframe>"
      ],
      "text/plain": [
       "<wandb.sdk.wandb_run.Run at 0x1f85db58d88>"
      ]
     },
     "execution_count": 1,
     "metadata": {},
     "output_type": "execute_result"
    }
   ],
   "source": [
    "import wandb\n",
    "wandb.init(project=\"my-test-project\")"
   ]
  },
  {
   "cell_type": "code",
   "execution_count": 2,
   "id": "1c1e373e",
   "metadata": {},
   "outputs": [
    {
     "name": "stdout",
     "output_type": "stream",
     "text": [
      "1.7.1\n"
     ]
    }
   ],
   "source": [
    "import torch\n",
    "import torchvision\n",
    "from torchvision import datasets, models, transforms\n",
    "\n",
    "import torch.nn as nn\n",
    "import torch.optim as optim\n",
    "import os\n",
    "\n",
    "\n",
    "import numpy as np\n",
    "import matplotlib.pyplot as plt\n",
    "\n",
    "%matplotlib inline\n",
    "\n",
    "## print out the pytorch version used (1.31 at the time of this tutorial)\n",
    "print(torch.__version__)"
   ]
  },
  {
   "cell_type": "code",
   "execution_count": 3,
   "id": "9db67500",
   "metadata": {},
   "outputs": [],
   "source": [
    "DATA_PATH = \"https://download.pytorch.org/tutorial/hymenoptera_data.zip\""
   ]
  },
  {
   "cell_type": "code",
   "execution_count": 4,
   "id": "5158286a",
   "metadata": {},
   "outputs": [],
   "source": [
    "import urllib\n",
    "import os\n",
    "import shutil\n",
    "from zipfile import ZipFile\n",
    "\n",
    "urllib.request .urlretrieve(DATA_PATH, \"hymenoptera_data.zip\")\n",
    "\n",
    "with ZipFile(\"hymenoptera_data.zip\", 'r') as zipObj:\n",
    "   # Extract all the contents of zip file in current directory\n",
    "   zipObj.extractall()\n"
   ]
  },
  {
   "cell_type": "code",
   "execution_count": 20,
   "id": "87ff37cf",
   "metadata": {},
   "outputs": [],
   "source": [
    "## configure root folder on your gdrive\n",
    "data_dir = \"./hymenoptera_data\"\n",
    "\n",
    "## custom transformer to flatten the image tensors\n",
    "class ReshapeTransform:\n",
    "    def __init__(self, new_size):\n",
    "        self.new_size = new_size\n",
    "\n",
    "    def __call__(self, img):\n",
    "        result = torch.reshape(img, self.new_size)\n",
    "        return result\n",
    "\n",
    "## transformations used to standardize and normalize the datasets\n",
    "data_transforms = {\n",
    "    'train': transforms.Compose([\n",
    "        transforms.Resize(224),\n",
    "        transforms.CenterCrop(224),\n",
    "        transforms.ToTensor()\n",
    "    ]),\n",
    "    'val': transforms.Compose([\n",
    "        transforms.Resize(224),\n",
    "        transforms.CenterCrop(224),\n",
    "        transforms.ToTensor()\n",
    "    ]),\n",
    "}\n",
    "\n",
    "## load the correspoding folders\n",
    "image_datasets = {x: datasets.ImageFolder(os.path.join(data_dir, x),\n",
    "                                          data_transforms[x])\n",
    "                  for x in ['train', 'val']}\n",
    "\n",
    "## load the entire dataset; we are not using minibatches here\n",
    "train_dataset = torch.utils.data.DataLoader(image_datasets['train'],\n",
    "                                            batch_size=len(image_datasets['train']),\n",
    "                                            shuffle=True)"
   ]
  },
  {
   "cell_type": "code",
   "execution_count": 21,
   "id": "4cef28d6",
   "metadata": {},
   "outputs": [],
   "source": [
    "class MyCNNModel(nn.Module):\n",
    "    def __init__(self):\n",
    "        super(MyCNNModel, self).__init__()\n",
    "        self.layer1 = nn.Sequential(\n",
    "            nn.Conv2d(3, 16, kernel_size=3, stride=2, padding=0),\n",
    "            nn.BatchNorm2d(16),\n",
    "            nn.ReLU(),\n",
    "            nn.MaxPool2d(kernel_size=2, stride=2))\n",
    "\n",
    "        self.layer2 = nn.Sequential(\n",
    "            nn.Conv2d(16, 32, kernel_size=3, stride=2, padding=0),\n",
    "            nn.BatchNorm2d(32),\n",
    "            nn.ReLU(),\n",
    "            nn.MaxPool2d(kernel_size=2, stride=2))\n",
    "        \n",
    "        self.layer3 = nn.Sequential(\n",
    "            nn.Conv2d(32, 64, kernel_size=3, stride=2, padding=0),\n",
    "            nn.BatchNorm2d(64),\n",
    "            nn.ReLU(),\n",
    "            nn.MaxPool2d(kernel_size=2, stride=2))\n",
    "\n",
    "        self.drop_out = nn.Dropout()\n",
    "        self.fc1 = nn.Linear(3 * 3 * 64, 1000)\n",
    "        self.fc2 = nn.Linear(1000, 1)\n",
    "\n",
    "    def forward(self, x):\n",
    "        out = self.layer1(x)\n",
    "        out = self.layer2(out)\n",
    "        out = self.layer3(out)\n",
    "\n",
    "        out = out.view(out.size(0), -1)\n",
    "        out = self.drop_out(out)\n",
    "        out = self.fc1(out)\n",
    "        out = self.fc2(out)\n",
    "        return out"
   ]
  },
  {
   "cell_type": "code",
   "execution_count": 31,
   "id": "0aee0d77",
   "metadata": {},
   "outputs": [],
   "source": [
    "EPOCHS = 100\n",
    "BATCH_SIZE = 64\n",
    "LEARNING_RATE = 0.01"
   ]
  },
  {
   "cell_type": "code",
   "execution_count": 32,
   "id": "6cad8cc6",
   "metadata": {},
   "outputs": [],
   "source": [
    "\n",
    "model = MyCNNModel()\n",
    "\n",
    "device = torch.device('cuda' if torch.cuda.is_available() else 'cpu')\n",
    "model.to(device)\n",
    "\n",
    "criterion = nn.BCEWithLogitsLoss()\n",
    "optimizer = optim.Adam(model.parameters(), lr=LEARNING_RATE)\n"
   ]
  },
  {
   "cell_type": "code",
   "execution_count": 35,
   "id": "e06939d6",
   "metadata": {},
   "outputs": [],
   "source": [
    "def binary_acc(y_pred, y_test):\n",
    "    y_pred_tag = torch.round(torch.sigmoid(y_pred))\n",
    "\n",
    "    correct_results_sum = (y_pred_tag == y_test).sum().float()\n",
    "    acc = correct_results_sum/y_test.shape[0]\n",
    "    acc = torch.round(acc * 100)\n",
    "    \n",
    "    return acc"
   ]
  },
  {
   "cell_type": "code",
   "execution_count": 39,
   "id": "3a0ad257",
   "metadata": {},
   "outputs": [],
   "source": [
    "EPOCHS = 100\n",
    "BATCH_SIZE = 32\n",
    "LEARNING_RATE = 0.1\n",
    "\n",
    "config={\"epochs\": EPOCHS, \"batch_size\": BATCH_SIZE, \"learning_rate\" : LEARNING_RATE}"
   ]
  },
  {
   "cell_type": "code",
   "execution_count": 41,
   "id": "00e1901c",
   "metadata": {},
   "outputs": [
    {
     "data": {
      "text/html": [
       "Finishing last run (ID:335lfzhp) before initializing another..."
      ],
      "text/plain": [
       "<IPython.core.display.HTML object>"
      ]
     },
     "metadata": {},
     "output_type": "display_data"
    },
    {
     "data": {
      "text/html": [
       "<br/>Waiting for W&B process to finish, PID 54376<br/>Program ended successfully."
      ],
      "text/plain": [
       "<IPython.core.display.HTML object>"
      ]
     },
     "metadata": {},
     "output_type": "display_data"
    },
    {
     "data": {
      "application/vnd.jupyter.widget-view+json": {
       "model_id": "",
       "version_major": 2,
       "version_minor": 0
      },
      "text/plain": [
       "VBox(children=(Label(value=' 0.00MB of 0.00MB uploaded (0.00MB deduped)\\r'), FloatProgress(value=1.0, max=1.0)…"
      ]
     },
     "metadata": {},
     "output_type": "display_data"
    },
    {
     "data": {
      "text/html": [
       "Find user logs for this run at: <code>E:\\workspace\\lecture-note-python-basics-for-ai\\codes\\pytorch\\visualization\\wandb\\run-20210809_081613-335lfzhp\\logs\\debug.log</code>"
      ],
      "text/plain": [
       "<IPython.core.display.HTML object>"
      ]
     },
     "metadata": {},
     "output_type": "display_data"
    },
    {
     "data": {
      "text/html": [
       "Find internal logs for this run at: <code>E:\\workspace\\lecture-note-python-basics-for-ai\\codes\\pytorch\\visualization\\wandb\\run-20210809_081613-335lfzhp\\logs\\debug-internal.log</code>"
      ],
      "text/plain": [
       "<IPython.core.display.HTML object>"
      ]
     },
     "metadata": {},
     "output_type": "display_data"
    },
    {
     "data": {
      "text/html": [
       "<h3>Run summary:</h3><br/><style>\n",
       "    table.wandb td:nth-child(1) { padding: 0 10px; text-align: right }\n",
       "    </style><table class=\"wandb\">\n",
       "<tr><td>accuracy</td><td>86.0</td></tr><tr><td>loss</td><td>0.329</td></tr><tr><td>_runtime</td><td>140</td></tr><tr><td>_timestamp</td><td>1628464717</td></tr><tr><td>_step</td><td>99</td></tr></table>"
      ],
      "text/plain": [
       "<IPython.core.display.HTML object>"
      ]
     },
     "metadata": {},
     "output_type": "display_data"
    },
    {
     "data": {
      "text/html": [
       "<h3>Run history:</h3><br/><style>\n",
       "    table.wandb td:nth-child(1) { padding: 0 10px; text-align: right }\n",
       "    </style><table class=\"wandb\">\n",
       "<tr><td>accuracy</td><td>▃▂▂▂▄▄▂▁▅▅▅▅▃▅▆▆▆▆▆▆▆▆▆▆▆▆▆▇▇▇▇▇▇▇▇▇████</td></tr><tr><td>loss</td><td>▁█▅▂▂▂▁▁▁▁▁▁▁▁▁▁▁▁▁▁▁▁▁▁▁▁▁▁▁▁▁▁▁▁▁▁▁▁▁▁</td></tr><tr><td>_runtime</td><td>▁▁▁▁▂▂▂▂▂▃▃▃▃▃▃▄▄▄▄▄▅▅▅▅▅▅▆▆▆▆▆▇▇▇▇▇▇███</td></tr><tr><td>_timestamp</td><td>▁▁▁▁▂▂▂▂▂▃▃▃▃▃▃▄▄▄▄▄▅▅▅▅▅▅▆▆▆▆▆▇▇▇▇▇▇███</td></tr><tr><td>_step</td><td>▁▁▁▁▂▂▂▂▂▃▃▃▃▃▃▄▄▄▄▄▅▅▅▅▅▅▆▆▆▆▆▇▇▇▇▇▇███</td></tr></table><br/>"
      ],
      "text/plain": [
       "<IPython.core.display.HTML object>"
      ]
     },
     "metadata": {},
     "output_type": "display_data"
    },
    {
     "data": {
      "text/html": [
       "Synced 6 W&B file(s), 0 media file(s), 0 artifact file(s) and 0 other file(s)"
      ],
      "text/plain": [
       "<IPython.core.display.HTML object>"
      ]
     },
     "metadata": {},
     "output_type": "display_data"
    },
    {
     "data": {
      "text/html": [
       "\n",
       "                    <br/>Synced <strong style=\"color:#cdcd00\">serene-bird-3</strong>: <a href=\"https://wandb.ai/teamlab/my-test-project/runs/335lfzhp\" target=\"_blank\">https://wandb.ai/teamlab/my-test-project/runs/335lfzhp</a><br/>\n",
       "                "
      ],
      "text/plain": [
       "<IPython.core.display.HTML object>"
      ]
     },
     "metadata": {},
     "output_type": "display_data"
    },
    {
     "data": {
      "text/html": [
       "...Successfully finished last run (ID:335lfzhp). Initializing new run:<br/><br/>"
      ],
      "text/plain": [
       "<IPython.core.display.HTML object>"
      ]
     },
     "metadata": {},
     "output_type": "display_data"
    },
    {
     "data": {
      "text/html": [
       "\n",
       "                Tracking run with wandb version 0.11.2<br/>\n",
       "                Syncing run <strong style=\"color:#cdcd00\">silvery-sound-4</strong> to <a href=\"https://wandb.ai\" target=\"_blank\">Weights & Biases</a> <a href=\"https://docs.wandb.com/integrations/jupyter.html\" target=\"_blank\">(Documentation)</a>.<br/>\n",
       "                Project page: <a href=\"https://wandb.ai/teamlab/my-test-project\" target=\"_blank\">https://wandb.ai/teamlab/my-test-project</a><br/>\n",
       "                Run page: <a href=\"https://wandb.ai/teamlab/my-test-project/runs/1s5su35w\" target=\"_blank\">https://wandb.ai/teamlab/my-test-project/runs/1s5su35w</a><br/>\n",
       "                Run data is saved locally in <code>E:\\workspace\\lecture-note-python-basics-for-ai\\codes\\pytorch\\visualization\\wandb\\run-20210809_082427-1s5su35w</code><br/><br/>\n",
       "            "
      ],
      "text/plain": [
       "<IPython.core.display.HTML object>"
      ]
     },
     "metadata": {},
     "output_type": "display_data"
    },
    {
     "name": "stdout",
     "output_type": "stream",
     "text": [
      "Epoch 001: | Loss: 0.29811 | Acc: 88.000\n",
      "Epoch 002: | Loss: 0.31177 | Acc: 85.000\n",
      "Epoch 003: | Loss: 0.28962 | Acc: 84.000\n",
      "Epoch 004: | Loss: 0.28341 | Acc: 87.000\n",
      "Epoch 005: | Loss: 0.31934 | Acc: 85.000\n",
      "Epoch 006: | Loss: 0.31382 | Acc: 86.000\n",
      "Epoch 007: | Loss: 0.29475 | Acc: 89.000\n",
      "Epoch 008: | Loss: 0.30167 | Acc: 88.000\n",
      "Epoch 009: | Loss: 0.32478 | Acc: 87.000\n",
      "Epoch 010: | Loss: 0.26857 | Acc: 88.000\n",
      "Epoch 011: | Loss: 0.26040 | Acc: 88.000\n",
      "Epoch 012: | Loss: 0.27826 | Acc: 89.000\n",
      "Epoch 013: | Loss: 0.28269 | Acc: 89.000\n",
      "Epoch 014: | Loss: 0.23921 | Acc: 92.000\n",
      "Epoch 015: | Loss: 0.24807 | Acc: 89.000\n",
      "Epoch 016: | Loss: 0.22705 | Acc: 93.000\n",
      "Epoch 017: | Loss: 0.27191 | Acc: 89.000\n",
      "Epoch 018: | Loss: 0.20464 | Acc: 91.000\n",
      "Epoch 019: | Loss: 0.27827 | Acc: 89.000\n",
      "Epoch 020: | Loss: 0.20526 | Acc: 92.000\n",
      "Epoch 021: | Loss: 0.19501 | Acc: 93.000\n",
      "Epoch 022: | Loss: 0.24066 | Acc: 86.000\n",
      "Epoch 023: | Loss: 0.19793 | Acc: 92.000\n",
      "Epoch 024: | Loss: 0.23990 | Acc: 91.000\n",
      "Epoch 025: | Loss: 0.19291 | Acc: 92.000\n",
      "Epoch 026: | Loss: 0.20535 | Acc: 92.000\n",
      "Epoch 027: | Loss: 0.22892 | Acc: 90.000\n",
      "Epoch 028: | Loss: 0.19713 | Acc: 92.000\n",
      "Epoch 029: | Loss: 0.24391 | Acc: 91.000\n",
      "Epoch 030: | Loss: 0.18365 | Acc: 93.000\n",
      "Epoch 031: | Loss: 0.19675 | Acc: 91.000\n",
      "Epoch 032: | Loss: 0.15567 | Acc: 95.000\n",
      "Epoch 033: | Loss: 0.24134 | Acc: 89.000\n",
      "Epoch 034: | Loss: 0.23516 | Acc: 92.000\n",
      "Epoch 035: | Loss: 0.13253 | Acc: 96.000\n",
      "Epoch 036: | Loss: 0.13531 | Acc: 96.000\n",
      "Epoch 037: | Loss: 0.20607 | Acc: 93.000\n",
      "Epoch 038: | Loss: 0.12979 | Acc: 94.000\n",
      "Epoch 039: | Loss: 0.16053 | Acc: 94.000\n",
      "Epoch 040: | Loss: 0.14659 | Acc: 95.000\n",
      "Epoch 041: | Loss: 0.14010 | Acc: 94.000\n",
      "Epoch 042: | Loss: 0.16280 | Acc: 95.000\n",
      "Epoch 043: | Loss: 0.12297 | Acc: 96.000\n",
      "Epoch 044: | Loss: 0.20164 | Acc: 92.000\n",
      "Epoch 045: | Loss: 0.15502 | Acc: 93.000\n",
      "Epoch 046: | Loss: 0.14463 | Acc: 95.000\n",
      "Epoch 047: | Loss: 0.15286 | Acc: 94.000\n",
      "Epoch 048: | Loss: 0.18648 | Acc: 93.000\n",
      "Epoch 049: | Loss: 0.12458 | Acc: 96.000\n",
      "Epoch 050: | Loss: 0.12513 | Acc: 96.000\n",
      "Epoch 051: | Loss: 0.13831 | Acc: 94.000\n",
      "Epoch 052: | Loss: 0.13796 | Acc: 95.000\n",
      "Epoch 053: | Loss: 0.10659 | Acc: 95.000\n",
      "Epoch 054: | Loss: 0.13028 | Acc: 94.000\n",
      "Epoch 055: | Loss: 0.16237 | Acc: 95.000\n",
      "Epoch 056: | Loss: 0.09360 | Acc: 95.000\n",
      "Epoch 057: | Loss: 0.18184 | Acc: 93.000\n",
      "Epoch 058: | Loss: 0.09206 | Acc: 95.000\n",
      "Epoch 059: | Loss: 0.12143 | Acc: 95.000\n",
      "Epoch 060: | Loss: 0.15555 | Acc: 96.000\n",
      "Epoch 061: | Loss: 0.16187 | Acc: 95.000\n",
      "Epoch 062: | Loss: 0.09400 | Acc: 97.000\n",
      "Epoch 063: | Loss: 0.11114 | Acc: 95.000\n",
      "Epoch 064: | Loss: 0.16063 | Acc: 93.000\n",
      "Epoch 065: | Loss: 0.14778 | Acc: 94.000\n",
      "Epoch 066: | Loss: 0.11805 | Acc: 95.000\n",
      "Epoch 067: | Loss: 0.12635 | Acc: 95.000\n",
      "Epoch 068: | Loss: 0.15929 | Acc: 94.000\n",
      "Epoch 069: | Loss: 0.09987 | Acc: 96.000\n",
      "Epoch 070: | Loss: 0.11632 | Acc: 95.000\n",
      "Epoch 071: | Loss: 0.10154 | Acc: 97.000\n",
      "Epoch 072: | Loss: 0.10666 | Acc: 96.000\n",
      "Epoch 073: | Loss: 0.09061 | Acc: 96.000\n",
      "Epoch 074: | Loss: 0.06938 | Acc: 99.000\n",
      "Epoch 075: | Loss: 0.05366 | Acc: 98.000\n",
      "Epoch 076: | Loss: 0.06206 | Acc: 98.000\n",
      "Epoch 077: | Loss: 0.07522 | Acc: 97.000\n",
      "Epoch 078: | Loss: 0.10288 | Acc: 95.000\n",
      "Epoch 079: | Loss: 0.04156 | Acc: 98.000\n",
      "Epoch 080: | Loss: 0.06276 | Acc: 97.000\n",
      "Epoch 081: | Loss: 0.08254 | Acc: 98.000\n",
      "Epoch 082: | Loss: 0.05841 | Acc: 98.000\n",
      "Epoch 083: | Loss: 0.09995 | Acc: 95.000\n",
      "Epoch 084: | Loss: 0.06569 | Acc: 98.000\n",
      "Epoch 085: | Loss: 0.06372 | Acc: 98.000\n",
      "Epoch 086: | Loss: 0.09017 | Acc: 96.000\n",
      "Epoch 087: | Loss: 0.04409 | Acc: 98.000\n",
      "Epoch 088: | Loss: 0.06069 | Acc: 97.000\n",
      "Epoch 089: | Loss: 0.06257 | Acc: 97.000\n",
      "Epoch 090: | Loss: 0.03336 | Acc: 99.000\n",
      "Epoch 091: | Loss: 0.05000 | Acc: 98.000\n",
      "Epoch 092: | Loss: 0.05881 | Acc: 98.000\n",
      "Epoch 093: | Loss: 0.08058 | Acc: 96.000\n",
      "Epoch 094: | Loss: 0.05667 | Acc: 98.000\n",
      "Epoch 095: | Loss: 0.04873 | Acc: 98.000\n",
      "Epoch 096: | Loss: 0.05675 | Acc: 98.000\n",
      "Epoch 097: | Loss: 0.05153 | Acc: 98.000\n",
      "Epoch 098: | Loss: 0.07689 | Acc: 97.000\n",
      "Epoch 099: | Loss: 0.03433 | Acc: 98.000\n",
      "Epoch 100: | Loss: 0.06575 | Acc: 98.000\n"
     ]
    }
   ],
   "source": [
    "wandb.init(project=\"my-test-project\", config=config)\n",
    "wandb.config.batch_size = BATCH_SIZE\n",
    "wandb.config.learning_rate = LEARNING_RATE\n",
    "\n",
    "for e in range(1, EPOCHS+1):\n",
    "    epoch_loss = 0\n",
    "    epoch_acc = 0\n",
    "    for X_batch, y_batch in train_dataset:\n",
    "        X_batch, y_batch = X_batch.to(device), y_batch.to(device).type(torch.cuda.FloatTensor)\n",
    "        optimizer.zero_grad()        \n",
    "        y_pred = model(X_batch)\n",
    "               \n",
    "        loss = criterion(y_pred, y_batch.unsqueeze(1))\n",
    "        acc = binary_acc(y_pred, y_batch.unsqueeze(1))\n",
    "        \n",
    "        loss.backward()\n",
    "        optimizer.step()\n",
    "        \n",
    "        epoch_loss += loss.item()\n",
    "        epoch_acc += acc.item()\n",
    "        \n",
    "        \n",
    "    train_loss = epoch_loss/len(train_dataset)\n",
    "    train_acc = epoch_acc/len(train_dataset)\n",
    "    print(f'Epoch {e+0:03}: | Loss: {train_loss:.5f} | Acc: {train_acc:.3f}')\n",
    "    wandb.log({'accuracy': train_acc, 'loss': train_loss})\n"
   ]
  },
  {
   "cell_type": "code",
   "execution_count": 43,
   "id": "ab67c0d7",
   "metadata": {
    "scrolled": true
   },
   "outputs": [
    {
     "data": {
      "text/html": [
       "<h1>Run(1s5su35w)</h1><iframe src=\"https://wandb.ai/teamlab/my-test-project/runs/1s5su35w\" style=\"border:none;width:100%;height:400px\"></iframe>"
      ],
      "text/plain": [
       "<wandb.sdk.wandb_run.Run at 0x1f80471bc48>"
      ]
     },
     "execution_count": 43,
     "metadata": {},
     "output_type": "execute_result"
    }
   ],
   "source": [
    "wandb.run\n"
   ]
  },
  {
   "cell_type": "code",
   "execution_count": null,
   "id": "41aa00ca",
   "metadata": {},
   "outputs": [],
   "source": []
  }
 ],
 "metadata": {
  "kernelspec": {
   "display_name": "Python 3 (ipykernel)",
   "language": "python",
   "name": "python3"
  },
  "language_info": {
   "codemirror_mode": {
    "name": "ipython",
    "version": 3
   },
   "file_extension": ".py",
   "mimetype": "text/x-python",
   "name": "python",
   "nbconvert_exporter": "python",
   "pygments_lexer": "ipython3",
   "version": "3.7.11"
  }
 },
 "nbformat": 4,
 "nbformat_minor": 5
}
