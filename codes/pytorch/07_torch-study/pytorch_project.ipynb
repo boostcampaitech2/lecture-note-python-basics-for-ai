{
 "cells": [
  {
   "cell_type": "markdown",
   "metadata": {
    "id": "XUS2KAxUEa_L"
   },
   "source": [
    "# Pytorch Project Template\n",
    "\n",
    "\n",
    "[![Open In Colab](https://colab.research.google.com/assets/colab-badge.svg)](https://colab.research.google.com/github/BoostcampAITech/lecture-note-python-basics-for-ai/blob/main/codes/pytorch/07_torch-study/pytorch_project.ipynb)"
   ]
  },
  {
   "cell_type": "code",
   "execution_count": null,
   "metadata": {
    "colab": {
     "base_uri": "https://localhost:8080/"
    },
    "executionInfo": {
     "elapsed": 5701,
     "status": "ok",
     "timestamp": 1628201387592,
     "user": {
      "displayName": "최성철/산업경영공학과",
      "photoUrl": "",
      "userId": "03123322103118209211"
     },
     "user_tz": -540
    },
    "id": "KbfYQDbeJ-L3",
    "outputId": "0bd7a5b7-e370-4316-834e-a5e89064010a"
   },
   "outputs": [],
   "source": [
    "!pip3 install torch\n",
    "!pip3 install torchvision"
   ]
  },
  {
   "cell_type": "code",
   "execution_count": null,
   "metadata": {
    "colab": {
     "base_uri": "https://localhost:8080/"
    },
    "executionInfo": {
     "elapsed": 29675,
     "status": "ok",
     "timestamp": 1628201417264,
     "user": {
      "displayName": "최성철/산업경영공학과",
      "photoUrl": "",
      "userId": "03123322103118209211"
     },
     "user_tz": -540
    },
    "id": "7txSJtWdEa_O",
    "outputId": "0a88f3d7-f6f1-48ea-88f0-16e9c4685248"
   },
   "outputs": [],
   "source": [
    "from google.colab import drive\n",
    "drive.mount('/content/drive')"
   ]
  },
  {
   "cell_type": "code",
   "execution_count": null,
   "metadata": {
    "colab": {
     "base_uri": "https://localhost:8080/"
    },
    "executionInfo": {
     "elapsed": 961,
     "status": "ok",
     "timestamp": 1628201450192,
     "user": {
      "displayName": "최성철/산업경영공학과",
      "photoUrl": "",
      "userId": "03123322103118209211"
     },
     "user_tz": -540
    },
    "id": "xehLXl7tHBkR",
    "outputId": "86335151-7f0b-4cd4-8d1d-4579cc7f0c43"
   },
   "outputs": [],
   "source": [
    "!git clone https://github.com/victoresque/pytorch-template"
   ]
  },
  {
   "cell_type": "code",
   "execution_count": null,
   "metadata": {
    "colab": {
     "base_uri": "https://localhost:8080/"
    },
    "executionInfo": {
     "elapsed": 274,
     "status": "ok",
     "timestamp": 1628201474273,
     "user": {
      "displayName": "최성철/산업경영공학과",
      "photoUrl": "",
      "userId": "03123322103118209211"
     },
     "user_tz": -540
    },
    "id": "ygK7oSjUEa_O",
    "outputId": "2cd4a6ca-2ea6-4422-da0e-36f201a3b48e"
   },
   "outputs": [],
   "source": [
    "!ls"
   ]
  },
  {
   "cell_type": "code",
   "execution_count": null,
   "metadata": {
    "colab": {
     "base_uri": "https://localhost:8080/"
    },
    "executionInfo": {
     "elapsed": 276,
     "status": "ok",
     "timestamp": 1628201480490,
     "user": {
      "displayName": "최성철/산업경영공학과",
      "photoUrl": "",
      "userId": "03123322103118209211"
     },
     "user_tz": -540
    },
    "id": "aRKwDoCXHTVs",
    "outputId": "28e74e0c-392b-4fff-c026-902e144af91e"
   },
   "outputs": [],
   "source": [
    "%cd /content/pytorch-template"
   ]
  },
  {
   "cell_type": "code",
   "execution_count": null,
   "metadata": {
    "colab": {
     "base_uri": "https://localhost:8080/"
    },
    "executionInfo": {
     "elapsed": 276,
     "status": "ok",
     "timestamp": 1628201480490,
     "user": {
      "displayName": "최성철/산업경영공학과",
      "photoUrl": "",
      "userId": "03123322103118209211"
     },
     "user_tz": -540
    },
    "id": "aRKwDoCXHTVs",
    "outputId": "28e74e0c-392b-4fff-c026-902e144af91e"
   },
   "outputs": [],
   "source": [
    "!python new_project.py MNIST-example"
   ]
  },
  {
   "cell_type": "code",
   "execution_count": null,
   "metadata": {
    "executionInfo": {
     "elapsed": 277,
     "status": "ok",
     "timestamp": 1628201650396,
     "user": {
      "displayName": "최성철/산업경영공학과",
      "photoUrl": "",
      "userId": "03123322103118209211"
     },
     "user_tz": -540
    },
    "id": "C37YT-6wHR1Z"
   },
   "outputs": [],
   "source": [
    "NGROK_TOKEN = '1mn46f5zchuMTvgUwv7MECrVYy1_7rVtSq7XzXgCd1qZB6CBE' # ngrok 토큰\n",
    "PASSWORD = 'upstage' # 비밀번호 설정"
   ]
  },
  {
   "cell_type": "code",
   "execution_count": null,
   "metadata": {
    "colab": {
     "base_uri": "https://localhost:8080/"
    },
    "executionInfo": {
     "elapsed": 2873,
     "status": "ok",
     "timestamp": 1628201655432,
     "user": {
      "displayName": "최성철/산업경영공학과",
      "photoUrl": "",
      "userId": "03123322103118209211"
     },
     "user_tz": -540
    },
    "id": "S9SLF0uQHXn_",
    "outputId": "bd60b52c-81ef-4d3f-bd13-7766701ce996"
   },
   "outputs": [],
   "source": [
    "!pip install colab-ssh"
   ]
  },
  {
   "cell_type": "code",
   "execution_count": null,
   "metadata": {
    "colab": {
     "base_uri": "https://localhost:8080/"
    },
    "executionInfo": {
     "elapsed": 26308,
     "status": "ok",
     "timestamp": 1628201684411,
     "user": {
      "displayName": "최성철/산업경영공학과",
      "photoUrl": "",
      "userId": "03123322103118209211"
     },
     "user_tz": -540
    },
    "id": "tlPH6DT0HjEZ",
    "outputId": "a7877a6a-3383-476b-b974-93d51d3c86ac"
   },
   "outputs": [],
   "source": [
    "from colab_ssh import launch_ssh\n",
    "launch_ssh(NGROK_TOKEN, PASSWORD)"
   ]
  },
  {
   "cell_type": "code",
   "execution_count": null,
   "metadata": {
    "colab": {
     "base_uri": "https://localhost:8080/"
    },
    "executionInfo": {
     "elapsed": 286,
     "status": "ok",
     "timestamp": 1628202857259,
     "user": {
      "displayName": "최성철/산업경영공학과",
      "photoUrl": "",
      "userId": "03123322103118209211"
     },
     "user_tz": -540
    },
    "id": "VriDhlP_HnB_",
    "outputId": "5cf70cd4-4735-4364-f975-d0975141d1f5"
   },
   "outputs": [],
   "source": [
    "class Test(object):\n",
    "    def __getitem__(self, items):\n",
    "        print (type(items), items)\n",
    "\n",
    "# Driver code\n",
    "test = Test()\n",
    "test[5]\n",
    "test[5:65:5]\n",
    "test['GeeksforGeeks']\n",
    "test[1, 'x', 10.0]\n",
    "test['a':'z':2]\n",
    "test[object()]"
   ]
  }
 ],
 "metadata": {
  "accelerator": "GPU",
  "colab": {
   "collapsed_sections": [],
   "name": "pytorch_project.ipynb",
   "provenance": []
  },
  "kernelspec": {
   "display_name": "Lablup FF 20.07 on Python 3.6 (CUDA 10.1)",
   "language": "python",
   "name": "python3"
  },
  "language_info": {
   "codemirror_mode": {
    "name": "ipython",
    "version": 3
   },
   "file_extension": ".py",
   "mimetype": "text/x-python",
   "name": "python",
   "nbconvert_exporter": "python",
   "pygments_lexer": "ipython3",
   "version": "3.6.9"
  }
 },
 "nbformat": 4,
 "nbformat_minor": 1
}
